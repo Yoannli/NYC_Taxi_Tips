{
 "cells": [
  {
   "cell_type": "code",
   "execution_count": 30,
   "metadata": {},
   "outputs": [],
   "source": [
    "import pandas as pd\n",
    "import numpy as np\n",
    "import seaborn as sns\n",
    "from matplotlib import pyplot as plt\n",
    "import feather\n",
    "from collections import Counter\n",
    "from sklearn.model_selection import train_test_split\n",
    "from sklearn.neighbors import KNeighborsClassifier\n",
    "from sklearn.linear_model import LogisticRegression\n",
    "from sklearn import svm, metrics\n",
    "import tensorflow as tf\n",
    "\n",
    "import warnings\n",
    "warnings.filterwarnings(\"ignore\")"
   ]
  },
  {
   "cell_type": "code",
   "execution_count": 4,
   "metadata": {},
   "outputs": [],
   "source": [
    "df = feather.read_dataframe('Datasets/5clusters.feather')\n",
    "num_cols = ['trip_distance', 'trip_duration', 'fare_amount', 'tolls_amount']\n",
    "cat_cols = ['cluster', 'hour']\n",
    "df['tip_level'] = df['tip_level'].apply(int)\n",
    "\n",
    "X = df[num_cols+cat_cols]\n",
    "\n",
    "oh = pd.DataFrame()\n",
    "for c in cat_cols:\n",
    "    dummies = pd.get_dummies(X[c], prefix=c)\n",
    "    oh = pd.concat([oh, dummies], axis=1)\n",
    "\n",
    "X = pd.concat([X[num_cols], oh], axis=1)\n",
    "y = df['tip_level']"
   ]
  },
  {
   "cell_type": "code",
   "execution_count": 6,
   "metadata": {},
   "outputs": [
    {
     "data": {
      "text/html": [
       "<div>\n",
       "<style scoped>\n",
       "    .dataframe tbody tr th:only-of-type {\n",
       "        vertical-align: middle;\n",
       "    }\n",
       "\n",
       "    .dataframe tbody tr th {\n",
       "        vertical-align: top;\n",
       "    }\n",
       "\n",
       "    .dataframe thead th {\n",
       "        text-align: right;\n",
       "    }\n",
       "</style>\n",
       "<table border=\"1\" class=\"dataframe\">\n",
       "  <thead>\n",
       "    <tr style=\"text-align: right;\">\n",
       "      <th></th>\n",
       "      <th>trip_distance</th>\n",
       "      <th>trip_duration</th>\n",
       "      <th>fare_amount</th>\n",
       "      <th>tolls_amount</th>\n",
       "      <th>cluster_0</th>\n",
       "      <th>cluster_1</th>\n",
       "      <th>cluster_2</th>\n",
       "      <th>cluster_3</th>\n",
       "      <th>cluster_4</th>\n",
       "      <th>hour_6</th>\n",
       "      <th>...</th>\n",
       "      <th>hour_8</th>\n",
       "      <th>hour_9</th>\n",
       "      <th>hour_10</th>\n",
       "      <th>hour_11</th>\n",
       "      <th>hour_12</th>\n",
       "      <th>hour_13</th>\n",
       "      <th>hour_14</th>\n",
       "      <th>hour_15</th>\n",
       "      <th>hour_16</th>\n",
       "      <th>hour_17</th>\n",
       "    </tr>\n",
       "  </thead>\n",
       "  <tbody>\n",
       "    <tr>\n",
       "      <th>0</th>\n",
       "      <td>1.3</td>\n",
       "      <td>10.716667</td>\n",
       "      <td>8.5</td>\n",
       "      <td>0.0</td>\n",
       "      <td>0</td>\n",
       "      <td>0</td>\n",
       "      <td>0</td>\n",
       "      <td>1</td>\n",
       "      <td>0</td>\n",
       "      <td>0</td>\n",
       "      <td>...</td>\n",
       "      <td>1</td>\n",
       "      <td>0</td>\n",
       "      <td>0</td>\n",
       "      <td>0</td>\n",
       "      <td>0</td>\n",
       "      <td>0</td>\n",
       "      <td>0</td>\n",
       "      <td>0</td>\n",
       "      <td>0</td>\n",
       "      <td>0</td>\n",
       "    </tr>\n",
       "    <tr>\n",
       "      <th>1</th>\n",
       "      <td>1.1</td>\n",
       "      <td>8.883333</td>\n",
       "      <td>7.5</td>\n",
       "      <td>0.0</td>\n",
       "      <td>1</td>\n",
       "      <td>0</td>\n",
       "      <td>0</td>\n",
       "      <td>0</td>\n",
       "      <td>0</td>\n",
       "      <td>0</td>\n",
       "      <td>...</td>\n",
       "      <td>0</td>\n",
       "      <td>1</td>\n",
       "      <td>0</td>\n",
       "      <td>0</td>\n",
       "      <td>0</td>\n",
       "      <td>0</td>\n",
       "      <td>0</td>\n",
       "      <td>0</td>\n",
       "      <td>0</td>\n",
       "      <td>0</td>\n",
       "    </tr>\n",
       "  </tbody>\n",
       "</table>\n",
       "<p>2 rows × 21 columns</p>\n",
       "</div>"
      ],
      "text/plain": [
       "   trip_distance  trip_duration  fare_amount  tolls_amount  cluster_0  \\\n",
       "0            1.3      10.716667          8.5           0.0          0   \n",
       "1            1.1       8.883333          7.5           0.0          1   \n",
       "\n",
       "   cluster_1  cluster_2  cluster_3  cluster_4  hour_6   ...     hour_8  \\\n",
       "0          0          0          1          0       0   ...          1   \n",
       "1          0          0          0          0       0   ...          0   \n",
       "\n",
       "   hour_9  hour_10  hour_11  hour_12  hour_13  hour_14  hour_15  hour_16  \\\n",
       "0       0        0        0        0        0        0        0        0   \n",
       "1       1        0        0        0        0        0        0        0   \n",
       "\n",
       "   hour_17  \n",
       "0        0  \n",
       "1        0  \n",
       "\n",
       "[2 rows x 21 columns]"
      ]
     },
     "execution_count": 6,
     "metadata": {},
     "output_type": "execute_result"
    }
   ],
   "source": [
    "X.head(2)"
   ]
  },
  {
   "cell_type": "code",
   "execution_count": 7,
   "metadata": {},
   "outputs": [],
   "source": [
    "X_train, X_test, y_train, y_test = train_test_split(X, y, test_size = 0.25, stratify=y, random_state = 30034)"
   ]
  },
  {
   "cell_type": "code",
   "execution_count": 8,
   "metadata": {},
   "outputs": [],
   "source": [
    "def print_accs(model, X_train, y_train, X_test, y_test):\n",
    "    # Training accuracy\n",
    "    y_pred_train = model.predict(X_train)\n",
    "    train_acc = metrics.accuracy_score(y_train, y_pred_train)\n",
    "    print(\"Training Accuracy: {:.5f}\".format(train_acc))\n",
    "\n",
    "    # Testing accuracy\n",
    "    y_pred_test=model.predict(X_test)\n",
    "    test_acc = metrics.accuracy_score(y_test, y_pred_test)\n",
    "    print(\"Testing Accuracy: {:.5f}\".format(test_acc))\n",
    "    print(\"\")\n",
    "    return(train_acc, test_acc)"
   ]
  },
  {
   "cell_type": "markdown",
   "metadata": {},
   "source": [
    "# Preliminary models"
   ]
  },
  {
   "cell_type": "markdown",
   "metadata": {},
   "source": [
    "### K-nearest neighbour"
   ]
  },
  {
   "cell_type": "code",
   "execution_count": 5,
   "metadata": {},
   "outputs": [
    {
     "name": "stdout",
     "output_type": "stream",
     "text": [
      "5 Nearest Neighbours\n",
      "Training Accuracy: 0.78354\n",
      "Testing Accuracy: 0.71293\n",
      "\n",
      "7 Nearest Neighbours\n",
      "Training Accuracy: 0.77317\n",
      "Testing Accuracy: 0.72979\n",
      "\n",
      "9 Nearest Neighbours\n",
      "Training Accuracy: 0.76770\n",
      "Testing Accuracy: 0.73867\n",
      "\n",
      "11 Nearest Neighbours\n",
      "Training Accuracy: 0.76538\n",
      "Testing Accuracy: 0.74477\n",
      "\n",
      "13 Nearest Neighbours\n",
      "Training Accuracy: 0.76387\n",
      "Testing Accuracy: 0.74801\n",
      "\n"
     ]
    }
   ],
   "source": [
    "from sklearn.neighbors import KNeighborsClassifier\n",
    "\n",
    "for k in [5,7,9,11,13]:\n",
    "    print(f\"{k} Nearest Neighbours\")\n",
    "    nn = KNeighborsClassifier(n_neighbors=k).fit(X_train, y_train)\n",
    "    accs = print_accs(nn, X_train, y_train, X_test, y_test)"
   ]
  },
  {
   "cell_type": "markdown",
   "metadata": {},
   "source": [
    "### Linear SVM model"
   ]
  },
  {
   "cell_type": "code",
   "execution_count": 6,
   "metadata": {},
   "outputs": [
    {
     "name": "stdout",
     "output_type": "stream",
     "text": [
      "C = 0.001\n",
      "Training Accuracy: 0.70379\n",
      "Testing Accuracy: 0.70323\n",
      "\n",
      "\n",
      "C = 0.01\n",
      "Training Accuracy: 0.70560\n",
      "Testing Accuracy: 0.70487\n",
      "\n",
      "\n",
      "C = 0.1\n",
      "Training Accuracy: 0.70923\n",
      "Testing Accuracy: 0.70861\n",
      "\n",
      "\n",
      "C = 1.0\n",
      "Training Accuracy: 0.68084\n",
      "Testing Accuracy: 0.67963\n",
      "\n",
      "\n",
      "C = 5\n",
      "Training Accuracy: 0.50638\n",
      "Testing Accuracy: 0.50414\n",
      "\n",
      "\n"
     ]
    }
   ],
   "source": [
    "for c in [0.001, 0.01, 0.1, 1.0, 5]:\n",
    "    svm_model = svm.LinearSVC(C=c).fit(X_train, y_train)\n",
    "    print(\"C =\", c)\n",
    "    print_accs(svm_model, X_train, y_train, X_test, y_test)"
   ]
  },
  {
   "cell_type": "markdown",
   "metadata": {},
   "source": [
    "### (One-vs-all) Logistic regression"
   ]
  },
  {
   "cell_type": "code",
   "execution_count": 11,
   "metadata": {},
   "outputs": [
    {
     "name": "stdout",
     "output_type": "stream",
     "text": [
      "Training Accuracy: 0.71719\n",
      "Testing Accuracy: 0.71558\n",
      "\n"
     ]
    },
    {
     "data": {
      "text/plain": [
       "(0.7171881867547604, 0.715584526062823)"
      ]
     },
     "execution_count": 11,
     "metadata": {},
     "output_type": "execute_result"
    }
   ],
   "source": [
    "lgr_model = LogisticRegression(solver='lbfgs').fit(X_train, y_train)\n",
    "print_accs(lgr_model, X_train, y_train, X_test, y_test)"
   ]
  },
  {
   "cell_type": "markdown",
   "metadata": {},
   "source": [
    "### Neural network"
   ]
  },
  {
   "cell_type": "code",
   "execution_count": 15,
   "metadata": {},
   "outputs": [],
   "source": [
    "# Get labels one hot encoded\n",
    "n = len(df)\n",
    "labels = df['tip_level']\n",
    "y = np.zeros((n, 3))\n",
    "for i in range(n):\n",
    "    y[i, labels[i]-1] = 1\n",
    "    \n",
    "# Split into train and test set\n",
    "X_train, X_test, y_train, y_test = train_test_split(X, y, test_size=0.25, random_state=30034)"
   ]
  },
  {
   "cell_type": "markdown",
   "metadata": {},
   "source": [
    "**Find max accuracy based on number of nodes** <br>\n",
    "This initial neural network contains a single hidden layer with a sigmoid activation function with 10 nodes. The next layer which is the output uses a softmax activation function essentially gives probabilities for each possible output. The actual output is determined by the one with the highest probability.  \n",
    "For backpropagation, I used a cross-entropy loss function to optimise the weights as it is the popular choice for a softmax activation in the output layer. The forward and backpropagations was done through a total of 25 epochs. "
   ]
  },
  {
   "cell_type": "code",
   "execution_count": 58,
   "metadata": {},
   "outputs": [],
   "source": [
    "# Try different number of nodes in the hidden layer\n",
    "models = []\n",
    "ns = list(range(4,21,2))\n",
    "for n in ns:\n",
    "    model = tf.keras.Sequential()\n",
    "    model.add(tf.keras.layers.Dense(n, activation=tf.nn.sigmoid,input_shape=(X_train.shape[1],)))\n",
    "    model.add(tf.keras.layers.Dense(3, activation=tf.nn.softmax))\n",
    "    model.compile(loss='categorical_crossentropy', \n",
    "              optimizer='adam',\n",
    "             metrics=['accuracy'])\n",
    "    models.append(model)"
   ]
  },
  {
   "cell_type": "code",
   "execution_count": 59,
   "metadata": {},
   "outputs": [],
   "source": [
    "# Train the model\n",
    "train_accs = []\n",
    "test_accs = []\n",
    "for model in models:\n",
    "    model.fit(X_train, y_train, epochs=EPOCHS, batch_size=BATCH_SIZE, verbose=0)\n",
    "    train_accs.append(model.evaluate(X_train, y_train, verbose=0)[1])\n",
    "    test_accs.append(model.evaluate(X_test, y_test, verbose=0)[1])"
   ]
  },
  {
   "cell_type": "code",
   "execution_count": 31,
   "metadata": {
    "scrolled": true
   },
   "outputs": [
    {
     "data": {
      "image/png": "[encoded data removed]",
      "text/plain": [
       "<Figure size 432x288 with 1 Axes>"
      ]
     },
     "metadata": {},
     "output_type": "display_data"
    }
   ],
   "source": [
    "# Plot the train and test accuracy against number of nodes\n",
    "sns.set_style(\"darkgrid\")\n",
    "plt.plot(ns, test_accs, label=\"Testing accuracy\")\n",
    "plt.plot(ns, train_accs, label=\"Training accuracy\");\n",
    "plt.legend(loc=\"upper right\")\n",
    "plt.xlabel(\"Number of nodes in hidden layer\")\n",
    "plt.ylabel(\"Accuracy\")\n",
    "plt.xticks(np.arange(min(ns), max(ns)+1, 2))\n",
    "plt.show()"
   ]
  },
  {
   "cell_type": "markdown",
   "metadata": {},
   "source": [
    "# Refining the neural network model\n",
    "Based on those preliminary models, I choose to explore the neural network model deeper and refine it. <br>\n",
    "\n",
    "### Target variable encoding\n",
    "Cheng's paper (2007): https://arxiv.org/abs/0704.1028\n",
    "<br><br>\n",
    "Drawing from the paper by Cheng et al. (2007) paper on ordinal regression using neural network, I tried a different approach at encoding the tip level that is fed into the neural network. Instead of a simple one-hot encoding method where 1 would be encoded as [1,0,0], 2 as [0,1,0] and 3 as [0,0,1], I tried encoding it as [1,0,0], [1,1,0] and [1,1,1] respectively.\n",
    "<br><br>\n",
    "This method uses only a single hidden layer with a sigmoid activation function to a number of nodes equal to the number of classes. The loss function is also changed to binary cross entropy. The target function also means that the loss is smaller the closer the prediction is to the right class.  The class label k is given as the first index of the output where its value is less than 0.5.\n",
    "\n"
   ]
  },
  {
   "cell_type": "code",
   "execution_count": 43,
   "metadata": {},
   "outputs": [],
   "source": [
    "df = feather.read_dataframe('Datasets/5clusters.feather')\n",
    "df['tip_level'] = df['tip_level'].apply(int)\n",
    "num_cols = ['trip_distance', 'trip_duration', 'fare_amount', 'tolls_amount']\n",
    "cat_cols = ['cluster', 'hour']\n",
    "\n",
    "X = df[num_cols+cat_cols]\n",
    "\n",
    "oh = pd.DataFrame()\n",
    "for c in cat_cols:\n",
    "    dummies = pd.get_dummies(X[c], prefix=c)\n",
    "    oh = pd.concat([oh, dummies], axis=1)\n",
    "\n",
    "X = pd.concat([X[num_cols], oh], axis=1)"
   ]
  },
  {
   "cell_type": "code",
   "execution_count": 60,
   "metadata": {},
   "outputs": [],
   "source": [
    "def get_row(n):\n",
    "    row = [0,0,0]\n",
    "    for i in range(n):\n",
    "        row[i]=1\n",
    "    return row\n",
    "\n",
    "# new encoding ([1,0,0], [1,1,0], [1,1,1])\n",
    "y = []\n",
    "for i in range(len(X)):\n",
    "    y.append(get_row(df['tip_level'][i]))\n",
    "y = np.array(y)"
   ]
  },
  {
   "cell_type": "code",
   "execution_count": 53,
   "metadata": {},
   "outputs": [],
   "source": [
    "X_train, X_test, y_train, y_test = train_test_split(X, y, test_size = 0.25, stratify=y, random_state=30034)"
   ]
  },
  {
   "cell_type": "code",
   "execution_count": 54,
   "metadata": {},
   "outputs": [
    {
     "name": "stdout",
     "output_type": "stream",
     "text": [
      "_________________________________________________________________\n",
      "Layer (type)                 Output Shape              Param #   \n",
      "=================================================================\n",
      "dense_62 (Dense)             (None, 3)                 66        \n",
      "=================================================================\n",
      "Total params: 66\n",
      "Trainable params: 66\n",
      "Non-trainable params: 0\n",
      "_________________________________________________________________\n"
     ]
    }
   ],
   "source": [
    "model = tf.keras.Sequential()\n",
    "model.add(tf.keras.layers.Dense(3, activation=tf.nn.sigmoid,input_shape=(X_train.shape[1],)))\n",
    "\n",
    "# Compile and print out summary of model\n",
    "model.compile(loss='binary_crossentropy', \n",
    "              optimizer='adam',\n",
    "             metrics=['accuracy'])\n",
    "\n",
    "model.summary()"
   ]
  },
  {
   "cell_type": "code",
   "execution_count": 57,
   "metadata": {},
   "outputs": [
    {
     "data": {
      "text/plain": [
       "<tensorflow.python.keras.callbacks.History at 0x26f34394518>"
      ]
     },
     "execution_count": 57,
     "metadata": {},
     "output_type": "execute_result"
    }
   ],
   "source": [
    "# Train the model\n",
    "model.fit(X_train, y_train, epochs=EPOCHS, batch_size=BATCH_SIZE, verbose=0)"
   ]
  },
  {
   "cell_type": "code",
   "execution_count": 56,
   "metadata": {},
   "outputs": [
    {
     "name": "stdout",
     "output_type": "stream",
     "text": [
      "282124/282124 [==============================] - 5s 18us/sample - loss: 0.2612 - acc: 0.9009\n",
      "94042/94042 [==============================] - 2s 19us/sample - loss: 0.2603 - acc: 0.9009\n",
      "\n",
      "Train accuracy: 0.900935709476471\n",
      "Test accuracy: 0.9008629322052002\n"
     ]
    }
   ],
   "source": [
    "# Testing the model \n",
    "train_loss, train_acc = model.evaluate(X_train, y_train)\n",
    "test_loss, test_acc = model.evaluate(X_test, y_test)\n",
    "print(f'\\nTrain accuracy: {train_acc}\\nTest accuracy: {test_acc}')"
   ]
  }
 ],
 "metadata": {
  "kernelspec": {
   "display_name": "Python [conda env:root] *",
   "language": "python",
   "name": "conda-root-py"
  },
  "language_info": {
   "codemirror_mode": {
    "name": "ipython",
    "version": 3
   },
   "file_extension": ".py",
   "mimetype": "text/x-python",
   "name": "python",
   "nbconvert_exporter": "python",
   "pygments_lexer": "ipython3",
   "version": "3.7.1"
  }
 },
 "nbformat": 4,
 "nbformat_minor": 2
}
